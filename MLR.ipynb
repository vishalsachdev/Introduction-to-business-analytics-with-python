{
 "cells": [
  {
   "cell_type": "markdown",
   "metadata": {},
   "source": [
    "# Multiple Linear Regression\n",
    "\n",
    "\n",
    "### Import required packages"
   ]
  },
  {
   "cell_type": "code",
   "execution_count": 2,
   "metadata": {},
   "outputs": [],
   "source": [
    "%matplotlib inline\n",
    "import pandas as pd\n",
    "import numpy as np\n",
    "from sklearn.model_selection import train_test_split\n",
    "from sklearn.linear_model import LinearRegression\n",
    "import matplotlib.pyplot as plt\n",
    "\n",
    "from dmba import regressionSummary"
   ]
  },
  {
   "cell_type": "code",
   "execution_count": 4,
   "metadata": {},
   "outputs": [],
   "source": [
    "#Import data\n",
    "df = pd.read_csv(\"./data/ToyotaCorolla.csv\")\n",
    "\n",
    "#Creating X and Y\n",
    "X = df.drop('Price',axis = 1)\n",
    "Y = df.Price\n",
    "\n",
    "#Encoding variables\n",
    "X = pd.get_dummies(X,drop_first = False)\n",
    "\n",
    "#Partition\n",
    "train_x,test_x, train_y, test_y = train_test_split(X,Y, test_size = 0.4, random_state = 2012)"
   ]
  },
  {
   "cell_type": "code",
   "execution_count": 5,
   "metadata": {},
   "outputs": [
    {
     "name": "stdout",
     "output_type": "stream",
     "text": [
      "intercept  -356281157835.0807\n",
      "        Predictor   coefficient\n",
      "0              Id -1.044232e+00\n",
      "1       Age_08_04  1.480982e+07\n",
      "2       Mfg_Month  1.480982e+07\n",
      "3        Mfg_Year  1.777186e+08\n",
      "4              KM -1.938983e-02\n",
      "..            ...           ...\n",
      "415     Color_Red  2.436955e+02\n",
      "416  Color_Silver  3.228589e+02\n",
      "417  Color_Violet -5.462506e+02\n",
      "418   Color_White  3.329674e+02\n",
      "419  Color_Yellow -3.430901e+02\n",
      "\n",
      "[420 rows x 2 columns]\n"
     ]
    }
   ],
   "source": [
    "car_lm = LinearRegression()\n",
    "\n",
    "car_lm.fit(train_x, train_y)\n",
    "\n",
    "print('intercept ', car_lm.intercept_)\n",
    "print(pd.DataFrame({'Predictor': X.columns, 'coefficient': car_lm.coef_}))"
   ]
  },
  {
   "cell_type": "code",
   "execution_count": 6,
   "metadata": {},
   "outputs": [
    {
     "name": "stdout",
     "output_type": "stream",
     "text": [
      "\n",
      "Regression statistics\n",
      "\n",
      "                      Mean Error (ME) : -0.0000\n",
      "       Root Mean Squared Error (RMSE) : 637.6398\n",
      "            Mean Absolute Error (MAE) : 442.2569\n",
      "          Mean Percentage Error (MPE) : -0.4488\n",
      "Mean Absolute Percentage Error (MAPE) : 4.6432\n",
      "\n",
      "\n",
      "Regression statistics\n",
      "\n",
      "                      Mean Error (ME) : -541.1156\n",
      "       Root Mean Squared Error (RMSE) : 5093.9109\n",
      "            Mean Absolute Error (MAE) : 1863.5874\n",
      "          Mean Percentage Error (MPE) : -6.1678\n",
      "Mean Absolute Percentage Error (MAPE) : 17.7818\n"
     ]
    }
   ],
   "source": [
    "regressionSummary(train_y, car_lm.predict(train_x))\n",
    "print()\n",
    "regressionSummary(test_y, car_lm.predict(test_x))"
   ]
  },
  {
   "cell_type": "code",
   "execution_count": 7,
   "metadata": {},
   "outputs": [
    {
     "data": {
      "text/html": [
       "<div>\n",
       "<style scoped>\n",
       "    .dataframe tbody tr th:only-of-type {\n",
       "        vertical-align: middle;\n",
       "    }\n",
       "\n",
       "    .dataframe tbody tr th {\n",
       "        vertical-align: top;\n",
       "    }\n",
       "\n",
       "    .dataframe thead th {\n",
       "        text-align: right;\n",
       "    }\n",
       "</style>\n",
       "<table border=\"1\" class=\"dataframe\">\n",
       "  <thead>\n",
       "    <tr style=\"text-align: right;\">\n",
       "      <th></th>\n",
       "      <th>Predicted</th>\n",
       "      <th>Actual</th>\n",
       "      <th>Error</th>\n",
       "    </tr>\n",
       "  </thead>\n",
       "  <tbody>\n",
       "    <tr>\n",
       "      <th>1104</th>\n",
       "      <td>7377.593628</td>\n",
       "      <td>7250</td>\n",
       "      <td>-127.593628</td>\n",
       "    </tr>\n",
       "    <tr>\n",
       "      <th>309</th>\n",
       "      <td>12592.718018</td>\n",
       "      <td>12450</td>\n",
       "      <td>-142.718018</td>\n",
       "    </tr>\n",
       "    <tr>\n",
       "      <th>1201</th>\n",
       "      <td>7396.279663</td>\n",
       "      <td>7850</td>\n",
       "      <td>453.720337</td>\n",
       "    </tr>\n",
       "    <tr>\n",
       "      <th>1169</th>\n",
       "      <td>8592.765747</td>\n",
       "      <td>9250</td>\n",
       "      <td>657.234253</td>\n",
       "    </tr>\n",
       "    <tr>\n",
       "      <th>101</th>\n",
       "      <td>16091.422607</td>\n",
       "      <td>16250</td>\n",
       "      <td>158.577393</td>\n",
       "    </tr>\n",
       "    <tr>\n",
       "      <th>916</th>\n",
       "      <td>8437.802612</td>\n",
       "      <td>7950</td>\n",
       "      <td>-487.802612</td>\n",
       "    </tr>\n",
       "    <tr>\n",
       "      <th>600</th>\n",
       "      <td>9217.399963</td>\n",
       "      <td>11250</td>\n",
       "      <td>2032.600037</td>\n",
       "    </tr>\n",
       "    <tr>\n",
       "      <th>266</th>\n",
       "      <td>12990.992126</td>\n",
       "      <td>12495</td>\n",
       "      <td>-495.992126</td>\n",
       "    </tr>\n",
       "    <tr>\n",
       "      <th>863</th>\n",
       "      <td>8935.317749</td>\n",
       "      <td>8200</td>\n",
       "      <td>-735.317749</td>\n",
       "    </tr>\n",
       "    <tr>\n",
       "      <th>940</th>\n",
       "      <td>10643.601868</td>\n",
       "      <td>9450</td>\n",
       "      <td>-1193.601868</td>\n",
       "    </tr>\n",
       "    <tr>\n",
       "      <th>162</th>\n",
       "      <td>18834.861267</td>\n",
       "      <td>19600</td>\n",
       "      <td>765.138733</td>\n",
       "    </tr>\n",
       "    <tr>\n",
       "      <th>1125</th>\n",
       "      <td>6962.343628</td>\n",
       "      <td>6500</td>\n",
       "      <td>-462.343628</td>\n",
       "    </tr>\n",
       "    <tr>\n",
       "      <th>122</th>\n",
       "      <td>13422.181519</td>\n",
       "      <td>16350</td>\n",
       "      <td>2927.818481</td>\n",
       "    </tr>\n",
       "    <tr>\n",
       "      <th>1238</th>\n",
       "      <td>7616.496460</td>\n",
       "      <td>7750</td>\n",
       "      <td>133.503540</td>\n",
       "    </tr>\n",
       "    <tr>\n",
       "      <th>859</th>\n",
       "      <td>8883.018921</td>\n",
       "      <td>8750</td>\n",
       "      <td>-133.018921</td>\n",
       "    </tr>\n",
       "    <tr>\n",
       "      <th>1339</th>\n",
       "      <td>8347.912292</td>\n",
       "      <td>9000</td>\n",
       "      <td>652.087708</td>\n",
       "    </tr>\n",
       "    <tr>\n",
       "      <th>1432</th>\n",
       "      <td>7938.191650</td>\n",
       "      <td>10845</td>\n",
       "      <td>2906.808350</td>\n",
       "    </tr>\n",
       "    <tr>\n",
       "      <th>242</th>\n",
       "      <td>12215.318909</td>\n",
       "      <td>11950</td>\n",
       "      <td>-265.318909</td>\n",
       "    </tr>\n",
       "    <tr>\n",
       "      <th>549</th>\n",
       "      <td>11929.766907</td>\n",
       "      <td>12500</td>\n",
       "      <td>570.233093</td>\n",
       "    </tr>\n",
       "    <tr>\n",
       "      <th>969</th>\n",
       "      <td>9669.761658</td>\n",
       "      <td>10500</td>\n",
       "      <td>830.238342</td>\n",
       "    </tr>\n",
       "  </tbody>\n",
       "</table>\n",
       "</div>"
      ],
      "text/plain": [
       "         Predicted  Actual        Error\n",
       "1104   7377.593628    7250  -127.593628\n",
       "309   12592.718018   12450  -142.718018\n",
       "1201   7396.279663    7850   453.720337\n",
       "1169   8592.765747    9250   657.234253\n",
       "101   16091.422607   16250   158.577393\n",
       "916    8437.802612    7950  -487.802612\n",
       "600    9217.399963   11250  2032.600037\n",
       "266   12990.992126   12495  -495.992126\n",
       "863    8935.317749    8200  -735.317749\n",
       "940   10643.601868    9450 -1193.601868\n",
       "162   18834.861267   19600   765.138733\n",
       "1125   6962.343628    6500  -462.343628\n",
       "122   13422.181519   16350  2927.818481\n",
       "1238   7616.496460    7750   133.503540\n",
       "859    8883.018921    8750  -133.018921\n",
       "1339   8347.912292    9000   652.087708\n",
       "1432   7938.191650   10845  2906.808350\n",
       "242   12215.318909   11950  -265.318909\n",
       "549   11929.766907   12500   570.233093\n",
       "969    9669.761658   10500   830.238342"
      ]
     },
     "execution_count": 7,
     "metadata": {},
     "output_type": "execute_result"
    }
   ],
   "source": [
    "car_lm_pred = car_lm.predict(test_x) # Which data set are we calculating predictions\n",
    "result = pd.DataFrame({'Predicted': car_lm_pred, 'Actual': test_y,'Error': test_y - car_lm_pred})\n",
    "result.head(20)"
   ]
  },
  {
   "cell_type": "code",
   "execution_count": 8,
   "metadata": {},
   "outputs": [
    {
     "data": {
      "text/plain": [
       "[<matplotlib.lines.Line2D at 0x122917700>]"
      ]
     },
     "execution_count": 8,
     "metadata": {},
     "output_type": "execute_result"
    },
    {
     "data": {
      "image/png": "[encoded data removed]",
      "text/plain": [
       "<Figure size 432x288 with 1 Axes>"
      ]
     },
     "metadata": {
      "needs_background": "light"
     },
     "output_type": "display_data"
    }
   ],
   "source": [
    "#Plotting Actual Vs Predicted\n",
    "plt.scatter(result.Predicted,result.Actual)\n",
    "plt.xlabel(\"Predicted Response\")\n",
    "plt.ylabel(\"Actual Values\")\n",
    "plt.plot( [5000,30000],[5000,30000],color=\"red\" )"
   ]
  },
  {
   "cell_type": "markdown",
   "metadata": {},
   "source": [
    "## Chapter Introduction\n",
    "In the previous chapter, we discussed similarity and clustering as a data pre-processing step. It is an important organizational step that helps analyze the data as a whole before moving into regression analysis and identifying the direct impact of certain variables on others. In this chapter, we’ll go over the basics of that regression analysis, focusing on one of the most popular models for making predictions when we have a numerical outcome variable, Multiple Linear Regression (MLR). \n",
    "\n",
    "In this chapter, we’ll go over: \n",
    "1. What is MLR?\n",
    "2. Assumptions behind MLR\n",
    "3. Steps to MLR\n",
    "4. MLR + Predictions"
   ]
  },
  {
   "cell_type": "markdown",
   "metadata": {},
   "source": [
    "### What is MLR\n",
    "Recall from Chapter 2 that data mining methods fall under two main categories: supervised learning and unsupervised learning. These learning methods are classified based on the presence and type of outcome variable; in supervised learning, we predict a previously determined outcome variable, and in unsupervised learning, we identify patterns within the data. Under unsupervised learning, the main method we’ll cover in this class is clustering, and under supervised learning, the two branches we’ll cover are regression and classification.\n",
    "\n",
    "The goal of Regression is to predict numerical outcomes and can be used to predict values in various situations. For example, predicting the amount spent on a fraudulent transaction would be a regression problem.\n",
    "\n",
    "Regression can be used for explanatory or predictive modeling.\n",
    "\n",
    "Explanatory Modeling - Creating a model that fits well with existing data (the data on which it was trained)\n",
    "Uses the entire data set to maximize information and focus on the coefficients\n",
    "Represents the relationship between existing dependent and independent variables, not predicting new values for dependent variables\n",
    "\n",
    "Predictive Modeling – Creating a model that has high predictive accuracy on new data\n",
    "Partitions to assess predictive performance and avoids overfitting with the focus being on predictions\n",
    "Accurately predicts new values for dependent variables, not descriptions of associations between existing dependent and independent variables \n",
    "\n",
    "The goal of Classification is to predict categorical outcomes, such as whether or not an outcome will be true or the probability that an outcome will occur. Within classification, there are two types of outcomes: class membership and propensity. Class membership refers to the categorical variable itself, while propensity refers to the probability of the class membership. For example, predicting whether or not a transaction is fraudulent would be a classification problem.\n",
    "\n",
    "Here are some more examples:\n",
    "\n",
    "How much will a house sell for? - Regression (numerical outcome)\n",
    "\n",
    "Will a student pass a test or not? - Classification (class membership)\n",
    "\n",
    "What is the probability of a certain student passing a class? - Classification (propensity)\n",
    "\n",
    "One method of predicting numerical outcomes under regression is Linear Regression, which examines the relationship between a dependent variable (also referred to as the outcome variable, response, or target) and independent variable(s) (also referred to as the predictor(s), input variable(s), regressor(s), or covariate(s)) assuming a linear relationship. Simple Linear Regression (SLR) examines a single independent variable, while Multiple Linear Regression (MLR) examines multiple independent variables.\n",
    "\n",
    "The equation below represents a linear relationship between multiple predictors and the outcome. We assume that this is the true relationship between the predictor variables and outcome variable. We will go over some examples and explanations to the different parts of this equation in the rest of this chapter.\n",
    "\n",
    "y = β0 + β1x1 + β2x2 +⋯+ βpxp + ϵ\n",
    "\n",
    "y: outcome variable\n",
    "x1, ..., xp: predictor variables wherewith p is the= total number of predictors\n",
    "β0: intercept\n",
    "β1, ..., βp: coefficients with p = total number of predictors\n",
    "ϵ: error (factors affecting y other than predictors)\n",
    "\n",
    "\n",
    "Let’s walk through an example of predicting numerical outcomes.\n",
    "\n",
    "You work at a Toyota dealership which buys back used cars from customers purchasing new cars. To make a profit, the dealership needs to predict the price that the used car will sell for."
   ]
  },
  {
   "cell_type": "markdown",
   "metadata": {},
   "source": [
    "| Variable   | Description                           |\n",
    "|------------|---------------------------------------|\n",
    "| Price      | Offer price in Euros                  |\n",
    "| Age        | Age in months as of August 2004       |\n",
    "| Kilometers | Accumulated Kilometers on odometer    |\n",
    "| Fuel type  | Fuel type (Petrol, Diesel, CNG)       |\n",
    "| HP         | Horsepower                            |\n",
    "| Metallic   | Metallic color (Yes = 1, No= 0)       |\n",
    "| Automatic  | Automatic (Yes = 1, No = 0)           |\n",
    "| CC         | Cylinder volume in cubic centimeters  |\n",
    "| Doors      | Number of doors                       |\n",
    "| QuartTax   | Quarterly road tax in Euros           |\n",
    "| Weight     | Weight in Kilograms                   |"
   ]
  },
  {
   "cell_type": "markdown",
   "metadata": {},
   "source": [
    "Example: \n",
    "\n",
    "In this example, a relationship between several variables and price is already given. Later in this chapter, we’ll explore how to get these coefficients through MLR.\n",
    "\n",
    "Price = 3 - 0.5 Age + 2 Automatic_binary + 3 PowerWindow_binary + 0.4 WarrantyLeft\n",
    "\n",
    "We can interpret these variables quantitatively and qualitatively. A quantitative interpretation of this equation would state a 1 unit increase in the age of a car reduces price by 0.5 units of price whereas a qualitative interpretation of this equation would simply state an increase in age will reduce the price of the car (without specifying numerical values.)\n",
    "\n",
    "We will use predictors (x1, ..., xp) to predict (instead of explain) outcome (y).\n",
    "\n",
    "For example:\n",
    "Use house characteristics to predict selling price\n",
    "Use advertising expenditures to predict sales\n",
    "Use product demand to predict valuation\n"
   ]
  },
  {
   "cell_type": "markdown",
   "metadata": {},
   "source": [
    "### Assumptions about MLR\n",
    "When dealing with multiple linear regression, we must always assume that there is a linear relationship between multiple predictors and the outcome. If a linear relationship is not present, a non-linear regression model must be utilized.\n",
    "\n",
    "We must also assume independent variables are not highly correlated to one another; this creates the issue of multicollinearity. \n",
    "\n",
    "When converting categorical variables to dummy variables, we must drop one dummy variable to avoid multicollinearity. For example, continuing on from the Toyota dealership example, if we were to dummy code the variable Fuel, we would get Fuel_Petrol, Fuel_Diesel, and Fuel_CNG. If Fuel_Patrol and Fuel_Diesel are both 0, then the car in question must run on CNG. Including the variable Fuel_CNG in our model means that any one of the Fuel dummy variables can be determined by the remaining two dummy variables. will increase the correlation between the Fuel dummy variables and lead to This is an example of perfect multicollinearity. Therefore, as shownyou see in the image above, Fuel_CNG must be has been dropped from the model. It doesn’t matter which dummy variable is dropped, as long as one of them is.\n",
    "\n",
    "By fitting the model to our data, we will estimate the coefficients to the predictor variables and use those to predict outcome values. We can then use those predicted outcome values to calculate residuals (also called errors). Estimates will remain unbiased if the mean of the error term is 0, and if the variance of the error term is constant, or homoskedastic."
   ]
  },
  {
   "cell_type": "code",
   "execution_count": 60,
   "metadata": {},
   "outputs": [],
   "source": [
    "predictors = ['age_08_04', 'km', 'fuel_type_Petrol', 'fuel_type_Diesel', 'hp', 'met_color', 'automatic', 'cc', 'doors', 'quarterly_tax', 'weight']"
   ]
  },
  {
   "cell_type": "markdown",
   "metadata": {},
   "source": [
    "**Create an object named 'X' to include all predictors in X. Create an object named 'y' that holds the outcome variable. Print the number of predictors and the first 8 values of y (using `print`).**"
   ]
  },
  {
   "cell_type": "code",
   "execution_count": 61,
   "metadata": {},
   "outputs": [
    {
     "name": "stdout",
     "output_type": "stream",
     "text": [
      "11\n",
      "0    13500\n",
      "1    13750\n",
      "2    13950\n",
      "3    14950\n",
      "4    13750\n",
      "5    12950\n",
      "6    16900\n",
      "7    18600\n",
      "Name: price, dtype: int64\n"
     ]
    }
   ],
   "source": [
    "X = car_df[predictors] \n",
    "y = car_df[outcome]  \n",
    "\n",
    "## Now print the number of predictors and first 8 values of y\n",
    "print(X.shape[1])\n",
    "print(y[0:8])"
   ]
  },
  {
   "cell_type": "markdown",
   "metadata": {},
   "source": [
    "### Task 11. Train/test split\n",
    "**Using `train_test_split` function, split the dataset into two parts, 60% of the samples into train_X and train_y and 40% of the samples into test_X and test_y. Enter a random seed value of the current year (using argument `random_state=1`). Display the shape of the train data predictors.**\n",
    "\n",
    "The random seed ensures that the random split in my notebook is the same as the random split in your notebook. Moreover, this means that when we try different models (e.g. include different predictors in our model), we are testing the model's predictive accuracy using the same training and test sets."
   ]
  },
  {
   "cell_type": "code",
   "execution_count": 62,
   "metadata": {},
   "outputs": [
    {
     "name": "stdout",
     "output_type": "stream",
     "text": [
      "(861, 11)\n",
      "(575, 11)\n",
      "(861,)\n",
      "(575,)\n"
     ]
    }
   ],
   "source": [
    "train_X, valid_X, train_y, valid_y = train_test_split(X, y, test_size=0.4, random_state=1) #Hint: train_test_split(?, y, test_size=?, random_state=?)\n",
    "\n",
    "## Display the number of rows and columns in each of these\n",
    "print(train_X.shape)\n",
    "print(valid_X.shape)\n",
    "print(train_y.shape)\n",
    "print(valid_y.shape)"
   ]
  },
  {
   "cell_type": "markdown",
   "metadata": {},
   "source": [
    "### Task 12. Fitting a linear regression model\n",
    "**Run a sci-kit_learn linear regression model on the training data. Print out the coefficients and summary regression statistics.**"
   ]
  },
  {
   "cell_type": "code",
   "execution_count": 63,
   "metadata": {},
   "outputs": [
    {
     "name": "stdout",
     "output_type": "stream",
     "text": [
      "intercept  -258.604216150472\n",
      "           Predictor  coefficient\n",
      "0          age_08_04  -124.110305\n",
      "1                 km    -0.016059\n",
      "2   fuel_type_Petrol  2413.063717\n",
      "3   fuel_type_Diesel  4481.088703\n",
      "4                 hp    75.549218\n",
      "5          met_color    47.715778\n",
      "6          automatic   462.441526\n",
      "7                 cc    -5.027585\n",
      "8              doors    58.417871\n",
      "9      quarterly_tax    13.009195\n",
      "10            weight    14.156177\n",
      "\n",
      "Regression statistics\n",
      "\n",
      "                      Mean Error (ME) : 0.0000\n",
      "       Root Mean Squared Error (RMSE) : 1315.5318\n",
      "            Mean Absolute Error (MAE) : 953.7443\n",
      "          Mean Percentage Error (MPE) : -1.0544\n",
      "Mean Absolute Percentage Error (MAPE) : 9.2370\n"
     ]
    }
   ],
   "source": [
    "# load the linear regression algorithm into an object called \"car_lm\"\n",
    "car_lm = LinearRegression()\n",
    "\n",
    "# fit the linear regression algorithm object to the training data, thus creating a model\n",
    "car_lm.fit(train_X, train_y)\n",
    "\n",
    "# print coefficients from the training data\n",
    "print('intercept ', car_lm.intercept_)\n",
    "print(pd.DataFrame({'Predictor': X.columns, 'coefficient': car_lm.coef_}))\n",
    "\n",
    "# print performance measures of the training data\n",
    "# THIS IS CHECKING HOW WELL OUR MODEL FITS THE DATA IT LEARNED FROM\n",
    "# THIS DOES NOT TELL US HOW WELL IT WILL PREDICT OUTCOMES FOR NEW DATA\n",
    "regressionSummary(train_y, car_lm.predict(train_X))"
   ]
  },
  {
   "cell_type": "markdown",
   "metadata": {},
   "source": [
    "When deciding between RMSE and MAE as a measure of the error, remember that MAE is easier to understand, but not always the best, because it's not as sensitive to large errors."
   ]
  },
  {
   "cell_type": "markdown",
   "metadata": {},
   "source": [
    "### Task 14. Prediction on test (validation) set\n",
    "\n",
    "**Using the `predict` function, generate the summary regression statistics (`regressionSummary`) on the test (validation) set.**\n",
    "\n",
    "Before, we were looking at how well our model fit the data it learned from. We are more interested in knowing how well our model does in predicting new values. We do that by making predictions on the holdout/validation/test set. (We will call it all those things! But it's just one set in this case.)"
   ]
  },
  {
   "cell_type": "code",
   "execution_count": 66,
   "metadata": {},
   "outputs": [],
   "source": [
    "# Use predict() to make predictions on a new set\n",
    "car_lm_pred = car_lm.predict(valid_X) # Which data set are we calculating predictions"
   ]
  },
  {
   "cell_type": "markdown",
   "metadata": {},
   "source": [
    "Create a data frame that contains three columns ```predicted_response```, ```actual_response``` and ```Error```. \n",
    "with values ```car_lm_pred```, ```valid_y```, and ```valid_y - car_lm_pred```\n",
    "Then print top 20 values of the data frame."
   ]
  },
  {
   "cell_type": "code",
   "execution_count": 67,
   "metadata": {},
   "outputs": [
    {
     "data": {
      "text/html": [
       "<div>\n",
       "<style scoped>\n",
       "    .dataframe tbody tr th:only-of-type {\n",
       "        vertical-align: middle;\n",
       "    }\n",
       "\n",
       "    .dataframe tbody tr th {\n",
       "        vertical-align: top;\n",
       "    }\n",
       "\n",
       "    .dataframe thead th {\n",
       "        text-align: right;\n",
       "    }\n",
       "</style>\n",
       "<table border=\"1\" class=\"dataframe\">\n",
       "  <thead>\n",
       "    <tr style=\"text-align: right;\">\n",
       "      <th></th>\n",
       "      <th>Predicted</th>\n",
       "      <th>Actual</th>\n",
       "      <th>Error</th>\n",
       "    </tr>\n",
       "  </thead>\n",
       "  <tbody>\n",
       "    <tr>\n",
       "      <th>509</th>\n",
       "      <td>12323.811858</td>\n",
       "      <td>10900</td>\n",
       "      <td>-1423.811858</td>\n",
       "    </tr>\n",
       "    <tr>\n",
       "      <th>435</th>\n",
       "      <td>11177.152249</td>\n",
       "      <td>10895</td>\n",
       "      <td>-282.152249</td>\n",
       "    </tr>\n",
       "    <tr>\n",
       "      <th>321</th>\n",
       "      <td>14033.803003</td>\n",
       "      <td>10750</td>\n",
       "      <td>-3283.803003</td>\n",
       "    </tr>\n",
       "    <tr>\n",
       "      <th>1055</th>\n",
       "      <td>6413.897879</td>\n",
       "      <td>6500</td>\n",
       "      <td>86.102121</td>\n",
       "    </tr>\n",
       "    <tr>\n",
       "      <th>288</th>\n",
       "      <td>12724.302918</td>\n",
       "      <td>11895</td>\n",
       "      <td>-829.302918</td>\n",
       "    </tr>\n",
       "    <tr>\n",
       "      <th>48</th>\n",
       "      <td>18226.582638</td>\n",
       "      <td>17950</td>\n",
       "      <td>-276.582638</td>\n",
       "    </tr>\n",
       "    <tr>\n",
       "      <th>1403</th>\n",
       "      <td>7665.856654</td>\n",
       "      <td>7000</td>\n",
       "      <td>-665.856654</td>\n",
       "    </tr>\n",
       "    <tr>\n",
       "      <th>952</th>\n",
       "      <td>9961.900457</td>\n",
       "      <td>8400</td>\n",
       "      <td>-1561.900457</td>\n",
       "    </tr>\n",
       "    <tr>\n",
       "      <th>1097</th>\n",
       "      <td>7182.829823</td>\n",
       "      <td>7250</td>\n",
       "      <td>67.170177</td>\n",
       "    </tr>\n",
       "    <tr>\n",
       "      <th>204</th>\n",
       "      <td>11985.986724</td>\n",
       "      <td>12950</td>\n",
       "      <td>964.013276</td>\n",
       "    </tr>\n",
       "    <tr>\n",
       "      <th>978</th>\n",
       "      <td>9556.854777</td>\n",
       "      <td>8745</td>\n",
       "      <td>-811.854777</td>\n",
       "    </tr>\n",
       "    <tr>\n",
       "      <th>404</th>\n",
       "      <td>9938.011124</td>\n",
       "      <td>9450</td>\n",
       "      <td>-488.011124</td>\n",
       "    </tr>\n",
       "    <tr>\n",
       "      <th>1338</th>\n",
       "      <td>7456.762516</td>\n",
       "      <td>7499</td>\n",
       "      <td>42.237484</td>\n",
       "    </tr>\n",
       "    <tr>\n",
       "      <th>754</th>\n",
       "      <td>8953.201306</td>\n",
       "      <td>9950</td>\n",
       "      <td>996.798694</td>\n",
       "    </tr>\n",
       "    <tr>\n",
       "      <th>1189</th>\n",
       "      <td>6873.469434</td>\n",
       "      <td>8500</td>\n",
       "      <td>1626.530566</td>\n",
       "    </tr>\n",
       "    <tr>\n",
       "      <th>948</th>\n",
       "      <td>8266.616892</td>\n",
       "      <td>7750</td>\n",
       "      <td>-516.616892</td>\n",
       "    </tr>\n",
       "    <tr>\n",
       "      <th>1079</th>\n",
       "      <td>6140.669878</td>\n",
       "      <td>8950</td>\n",
       "      <td>2809.330122</td>\n",
       "    </tr>\n",
       "    <tr>\n",
       "      <th>1108</th>\n",
       "      <td>7274.154503</td>\n",
       "      <td>8250</td>\n",
       "      <td>975.845497</td>\n",
       "    </tr>\n",
       "    <tr>\n",
       "      <th>107</th>\n",
       "      <td>17074.195776</td>\n",
       "      <td>17450</td>\n",
       "      <td>375.804224</td>\n",
       "    </tr>\n",
       "    <tr>\n",
       "      <th>1065</th>\n",
       "      <td>5951.980341</td>\n",
       "      <td>6550</td>\n",
       "      <td>598.019659</td>\n",
       "    </tr>\n",
       "  </tbody>\n",
       "</table>\n",
       "</div>"
      ],
      "text/plain": [
       "         Predicted  Actual        Error\n",
       "509   12323.811858   10900 -1423.811858\n",
       "435   11177.152249   10895  -282.152249\n",
       "321   14033.803003   10750 -3283.803003\n",
       "1055   6413.897879    6500    86.102121\n",
       "288   12724.302918   11895  -829.302918\n",
       "48    18226.582638   17950  -276.582638\n",
       "1403   7665.856654    7000  -665.856654\n",
       "952    9961.900457    8400 -1561.900457\n",
       "1097   7182.829823    7250    67.170177\n",
       "204   11985.986724   12950   964.013276\n",
       "978    9556.854777    8745  -811.854777\n",
       "404    9938.011124    9450  -488.011124\n",
       "1338   7456.762516    7499    42.237484\n",
       "754    8953.201306    9950   996.798694\n",
       "1189   6873.469434    8500  1626.530566\n",
       "948    8266.616892    7750  -516.616892\n",
       "1079   6140.669878    8950  2809.330122\n",
       "1108   7274.154503    8250   975.845497\n",
       "107   17074.195776   17450   375.804224\n",
       "1065   5951.980341    6550   598.019659"
      ]
     },
     "execution_count": 67,
     "metadata": {},
     "output_type": "execute_result"
    }
   ],
   "source": [
    "result = pd.DataFrame({'Predicted': car_lm_pred, 'Actual': valid_y,'Error': valid_y - car_lm_pred})\n",
    "result.head(20)"
   ]
  },
  {
   "cell_type": "markdown",
   "metadata": {},
   "source": [
    "Let us create a scatter plot between predicted response (X axis) v.s. actual response (Y axis). Set axis labels appropriately."
   ]
  },
  {
   "cell_type": "code",
   "execution_count": 68,
   "metadata": {},
   "outputs": [
    {
     "data": {
      "text/plain": [
       "[<matplotlib.lines.Line2D at 0x7fadc92d8f70>]"
      ]
     },
     "execution_count": 68,
     "metadata": {},
     "output_type": "execute_result"
    },
    {
     "data": {
      "image/png": "[encoded data removed]",
      "text/plain": [
       "<Figure size 432x288 with 1 Axes>"
      ]
     },
     "metadata": {
      "needs_background": "light"
     },
     "output_type": "display_data"
    }
   ],
   "source": [
    "plt.scatter(result.Predicted,result.Actual)\n",
    "plt.xlabel(\"Predicted Response\")\n",
    "plt.ylabel(\"Actual Values\")\n",
    "plt.plot( [5000,30000],[5000,30000],color=\"red\" )"
   ]
  },
  {
   "cell_type": "markdown",
   "metadata": {},
   "source": [
    "What is that outlier?? Let's find it."
   ]
  },
  {
   "cell_type": "code",
   "execution_count": 69,
   "metadata": {},
   "outputs": [
    {
     "data": {
      "text/plain": [
       "age_08_04              25\n",
       "km                  20019\n",
       "fuel_type_Petrol        1\n",
       "fuel_type_Diesel        0\n",
       "hp                    110\n",
       "met_color               1\n",
       "automatic               1\n",
       "cc                   1600\n",
       "doors                   5\n",
       "quarterly_tax         100\n",
       "weight               1180\n",
       "Name: 80, dtype: int64"
      ]
     },
     "execution_count": 69,
     "metadata": {},
     "output_type": "execute_result"
    }
   ],
   "source": [
    "result[result.Predicted == result.Predicted.min()]\n",
    "car_df.iloc[80]\n",
    "valid_X.loc[80]"
   ]
  },
  {
   "cell_type": "markdown",
   "metadata": {},
   "source": [
    "Compare this to the distribution of data to see if we can find anything off."
   ]
  },
  {
   "cell_type": "code",
   "execution_count": 71,
   "metadata": {},
   "outputs": [
    {
     "name": "stdout",
     "output_type": "stream",
     "text": [
      "\n",
      "Regression statistics\n",
      "\n",
      "                      Mean Error (ME) : 64.7805\n",
      "       Root Mean Squared Error (RMSE) : 1261.1192\n",
      "            Mean Absolute Error (MAE) : 969.2510\n",
      "          Mean Percentage Error (MPE) : -0.4108\n",
      "Mean Absolute Percentage Error (MAPE) : 9.6820\n"
     ]
    }
   ],
   "source": [
    "# Compute common accuracy measures\n",
    "regressionSummary(valid_y, car_lm_pred)"
   ]
  },
  {
   "cell_type": "markdown",
   "metadata": {},
   "source": [
    "**Are the accuracy measures higher when calculated using the training data or the test data? Why?**"
   ]
  }
 ],
 "metadata": {
  "kernelspec": {
   "display_name": "Python 3",
   "language": "python",
   "name": "python3"
  },
  "language_info": {
   "codemirror_mode": {
    "name": "ipython",
    "version": 3
   },
   "file_extension": ".py",
   "mimetype": "text/x-python",
   "name": "python",
   "nbconvert_exporter": "python",
   "pygments_lexer": "ipython3",
   "version": "3.9.0"
  },
  "varInspector": {
   "cols": {
    "lenName": 16,
    "lenType": 16,
    "lenVar": 40
   },
   "kernels_config": {
    "python": {
     "delete_cmd_postfix": "",
     "delete_cmd_prefix": "del ",
     "library": "var_list.py",
     "varRefreshCmd": "print(var_dic_list())"
    },
    "r": {
     "delete_cmd_postfix": ") ",
     "delete_cmd_prefix": "rm(",
     "library": "var_list.r",
     "varRefreshCmd": "cat(var_dic_list()) "
    }
   },
   "types_to_exclude": [
    "module",
    "function",
    "builtin_function_or_method",
    "instance",
    "_Feature"
   ],
   "window_display": true
  }
 },
 "nbformat": 4,
 "nbformat_minor": 4
}
